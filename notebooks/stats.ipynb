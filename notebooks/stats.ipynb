{
 "cells": [
  {
   "cell_type": "code",
   "execution_count": 19,
   "metadata": {},
   "outputs": [],
   "source": [
    "strength = 8\n",
    "dexterity = 12\n",
    "constitution = 8\n",
    "intelligence = 8\n",
    "wisdom = 8\n",
    "charisma = 8\n",
    "\n",
    "stats: list[int] = [strength, dexterity, constitution, intelligence, wisdom, charisma]"
   ]
  },
  {
   "cell_type": "code",
   "execution_count": 2,
   "metadata": {},
   "outputs": [
    {
     "name": "stdout",
     "output_type": "stream",
     "text": [
      "Class: thief\n"
     ]
    }
   ],
   "source": [
    "from random import choice\n",
    "\n",
    "character_classes = {\n",
    "    \"warrior\": strength,\n",
    "    \"thief\": dexterity,\n",
    "    \"wizard\": intelligence,\n",
    "    \"priest\": wisdom,\n",
    "}\n",
    "\n",
    "max_value = max(character_classes.values())\n",
    "probable_classes = [\n",
    "    key for key, value in character_classes.items() if value == max_value\n",
    "]\n",
    "character_class = choice(probable_classes)\n",
    "\n",
    "print(\"Class:\", character_class)  # Output: ['strength', 'charisma']"
   ]
  },
  {
   "cell_type": "code",
   "execution_count": 16,
   "metadata": {},
   "outputs": [
    {
     "data": {
      "text/plain": [
       "18"
      ]
     },
     "execution_count": 16,
     "metadata": {},
     "output_type": "execute_result"
    }
   ],
   "source": [
    "max_value"
   ]
  },
  {
   "cell_type": "code",
   "execution_count": 20,
   "metadata": {},
   "outputs": [
    {
     "data": {
      "text/plain": [
       "False"
      ]
     },
     "execution_count": 20,
     "metadata": {},
     "output_type": "execute_result"
    }
   ],
   "source": [
    "any(num > 13 for num in stats)"
   ]
  }
 ],
 "metadata": {
  "kernelspec": {
   "display_name": "randoom-5zqJkA_L-py3.10",
   "language": "python",
   "name": "python3"
  },
  "language_info": {
   "codemirror_mode": {
    "name": "ipython",
    "version": 3
   },
   "file_extension": ".py",
   "mimetype": "text/x-python",
   "name": "python",
   "nbconvert_exporter": "python",
   "pygments_lexer": "ipython3",
   "version": "3.10.12"
  }
 },
 "nbformat": 4,
 "nbformat_minor": 2
}
